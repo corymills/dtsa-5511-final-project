{
 "cells": [
  {
   "cell_type": "markdown",
   "metadata": {},
   "source": [
    "# Title"
   ]
  },
  {
   "cell_type": "markdown",
   "metadata": {},
   "source": [
    "## Problem Description"
   ]
  },
  {
   "cell_type": "markdown",
   "metadata": {},
   "source": [
    "## Imports and Utility Code"
   ]
  },
  {
   "cell_type": "code",
   "execution_count": null,
   "metadata": {},
   "outputs": [],
   "source": [
    "import pandas as pd\n",
    "import numpy as np\n",
    "import plotly.express as px\n",
    "import plotly.graph_objects as go\n",
    "import nltk\n",
    "from collections import Counter\n",
    "import syllapy\n",
    "from nltk.corpus import wordnet\n",
    "from nltk.tokenize import sent_tokenize, word_tokenize\n",
    "import ety\n",
    "from tqdm import tqdm\n",
    "\n",
    "import tensorflow as tf\n",
    "from transformers import BertTokenizer, TFBertModel\n",
    "from keras.preprocessing.text import Tokenizer\n",
    "from tensorflow.keras.preprocessing.sequence import pad_sequences\n",
    "from keras.models import Sequential\n",
    "from keras.layers import (\n",
    "    Embedding,\n",
    "    Bidirectional,\n",
    "    LSTM,\n",
    "    Dense,\n",
    "    Dropout,\n",
    "    Input,\n",
    "    Flatten,\n",
    "    concatenate,\n",
    ")\n",
    "from keras import regularizers\n",
    "from sklearn.model_selection import train_test_split\n",
    "from tensorflow.keras.callbacks import EarlyStopping\n",
    "from tensorflow.keras.layers import LeakyReLU\n",
    "from keras.models import Model\n",
    "\n",
    "tqdm.pandas()\n",
    "nltk.download(\"wordnet\")\n",
    "nltk.download(\"punkt\")\n",
    "nltk.download(\"averaged_perceptron_tagger\")"
   ]
  },
  {
   "cell_type": "markdown",
   "metadata": {},
   "source": [
    "## Exploritory Data Analysis"
   ]
  },
  {
   "cell_type": "code",
   "execution_count": null,
   "metadata": {},
   "outputs": [],
   "source": [
    "df = pd.read_csv(\"CLEAR Corpus 6.01 - CLEAR Corpus 6.01.csv\")\n",
    "df = df[df[\"Kaggle split\"] == \"Train\"]"
   ]
  },
  {
   "cell_type": "code",
   "execution_count": null,
   "metadata": {},
   "outputs": [],
   "source": [
    "pos_mapping = {\n",
    "    \"CC\": \"Coordinating Conjunction\",\n",
    "    \"CD\": \"Cardinal Digit\",\n",
    "    \"DT\": \"Determiner\",\n",
    "    \"EX\": \"Existential There\",\n",
    "    \"FW\": \"Foreign Word\",\n",
    "    \"IN\": \"Preposition or Subordinating Conjunction\",\n",
    "    \"JJ\": \"Adjective\",\n",
    "    \"JJR\": \"Adjective, Comparative\",\n",
    "    \"JJS\": \"Adjective, Superlative\",\n",
    "    \"LS\": \"List Item Marker\",\n",
    "    \"MD\": \"Modal\",\n",
    "    \"NN\": \"Noun, Singular or Mass\",\n",
    "    \"NNS\": \"Noun, Plural\",\n",
    "    \"NNP\": \"Proper Noun, Singular\",\n",
    "    \"NNPS\": \"Proper Noun, Plural\",\n",
    "    \"PDT\": \"Predeterminer\",\n",
    "    \"POS\": \"Possessive Ending\",\n",
    "    \"PRP\": \"Personal Pronoun\",\n",
    "    \"PRP$\": \"Possessive Pronoun\",\n",
    "    \"RB\": \"Adverb\",\n",
    "    \"RBR\": \"Adverb, Comparative\",\n",
    "    \"RBS\": \"Adverb, Superlative\",\n",
    "    \"RP\": \"Particle\",\n",
    "    \"TO\": \"to\",\n",
    "    \"UH\": \"Interjection\",\n",
    "    \"VB\": \"Verb, Base Form\",\n",
    "    \"VBD\": \"Verb, Past Tense\",\n",
    "    \"VBG\": \"Verb, Gerund or Present Participle\",\n",
    "    \"VBN\": \"Verb, Past Participle\",\n",
    "    \"VBP\": \"Verb, Non-3rd Person Singular Present\",\n",
    "    \"VBZ\": \"Verb, 3rd Person Singular Present\",\n",
    "    \"WDT\": \"Wh-determiner\",\n",
    "    \"WP\": \"Wh-pronoun\",\n",
    "    \"WP$\": \"Possessive Wh-pronoun\",\n",
    "    \"WRB\": \"Wh-adverb\",\n",
    "}\n",
    "\n",
    "\n",
    "def process_text(text):\n",
    "    text = text.lower()\n",
    "\n",
    "    word_origins = []\n",
    "    word_pos = []\n",
    "    syllable_counts = []\n",
    "    sentence_lengths = []\n",
    "    word_lengths = []\n",
    "\n",
    "    sentences = sent_tokenize(text)\n",
    "\n",
    "    for sentence in sentences:\n",
    "        tokens = nltk.word_tokenize(sentence)\n",
    "        pos_tags = nltk.pos_tag(tokens)\n",
    "        sentence_lengths.append(len(pos_tags))\n",
    "        for token, pos in pos_tags:\n",
    "            origin = ety.origins(token)\n",
    "            if origin:\n",
    "                origin = origin[0].language.name\n",
    "            else:\n",
    "                origin = \"unknown\"\n",
    "            word_origins.append(origin)\n",
    "            full_pos_name = pos_mapping.get(pos, pos)\n",
    "            word_pos.append(full_pos_name)\n",
    "            syllables = syllapy.count(token)\n",
    "            syllable_counts.append(syllables)\n",
    "            word_lengths.append(len(token))\n",
    "\n",
    "    processed_excerpt = text\n",
    "    origin_counts = Counter(word_origins)\n",
    "    pos_counts = Counter(word_pos)\n",
    "    mean_syllable_count = np.mean(syllable_counts)\n",
    "    num_sentences = len(sentences)\n",
    "    mean_sentence_length = np.mean(sentence_lengths)\n",
    "    num_words = np.sum(sentence_lengths)\n",
    "    mean_word_length = np.mean(word_lengths)\n",
    "\n",
    "    return (\n",
    "        word_origins,\n",
    "        origin_counts,\n",
    "        word_pos,\n",
    "        pos_counts,\n",
    "        syllable_counts,\n",
    "        mean_syllable_count,\n",
    "        num_sentences,\n",
    "        mean_sentence_length,\n",
    "        mean_word_length,\n",
    "        num_words,\n",
    "        processed_excerpt,\n",
    "    )"
   ]
  },
  {
   "cell_type": "code",
   "execution_count": null,
   "metadata": {},
   "outputs": [],
   "source": [
    "df[\n",
    "    [\n",
    "        \"word_origins\",\n",
    "        \"word_origin_counts\",\n",
    "        \"pos\",\n",
    "        \"pos_counts\",\n",
    "        \"syllable_counts\",\n",
    "        \"mean_syllable_count\",\n",
    "        \"num_sentences\",\n",
    "        \"mean_sentence_length\",\n",
    "        \"mean_word_length\",\n",
    "        \"num_words\",\n",
    "        \"processed_excerpt\",\n",
    "    ]\n",
    "] = df[\"Excerpt\"].progress_apply(lambda x: pd.Series(process_text(x)))"
   ]
  },
  {
   "cell_type": "markdown",
   "metadata": {},
   "source": [
    "## Models"
   ]
  },
  {
   "cell_type": "code",
   "execution_count": null,
   "metadata": {},
   "outputs": [],
   "source": [
    "max_sequence_length = 300\n",
    "max_words = 50000\n",
    "dropout_rate = 0.25\n",
    "\n",
    "sentence_features = df[\n",
    "    [\n",
    "        \"mean_syllable_count\",\n",
    "        \"num_sentences\",\n",
    "        \"mean_sentence_length\",\n",
    "        \"mean_word_length\",\n",
    "    ]\n",
    "]\n",
    "\n",
    "tokenizer = Tokenizer(num_words=max_words)\n",
    "tokenizer.fit_on_texts(df[\"processed_excerpt\"])\n",
    "sequences = tokenizer.texts_to_sequences(df[\"processed_excerpt\"])\n",
    "data = pad_sequences(sequences, maxlen=max_sequence_length)\n",
    "labels = np.array(df[\"BT Easiness\"])\n",
    "\n",
    "(\n",
    "    x_text_train,\n",
    "    x_text_test,\n",
    "    x_sentence_train,\n",
    "    x_sentence_test,\n",
    "    y_train,\n",
    "    y_test,\n",
    ") = train_test_split(\n",
    "    data, sentence_features, labels, test_size=0.2, random_state=42, shuffle=True\n",
    ")\n",
    "early_stopping = EarlyStopping(\n",
    "    monitor=\"val_loss\", patience=5, restore_best_weights=True\n",
    ")"
   ]
  },
  {
   "cell_type": "markdown",
   "metadata": {},
   "source": [
    "### Bidirectional LSTM"
   ]
  },
  {
   "cell_type": "code",
   "execution_count": null,
   "metadata": {},
   "outputs": [],
   "source": [
    "modela = Sequential()\n",
    "modela.add(Embedding(max_words, 128, input_length=max_sequence_length))\n",
    "modela.add(Bidirectional(LSTM(64)))\n",
    "modela.add(LeakyReLU(alpha=0.1))\n",
    "modela.add(Dropout(0.25))\n",
    "modela.add(Dense(1, activation=\"linear\"))\n",
    "\n",
    "modela.compile(\n",
    "    loss=\"mean_squared_error\", optimizer=\"adam\", metrics=[\"mean_absolute_error\"]\n",
    ")\n",
    "modela.summary()\n",
    "\n",
    "history = modela.fit(\n",
    "    x_text_train,\n",
    "    y_train,\n",
    "    epochs=30,\n",
    "    batch_size=15,\n",
    "    validation_data=(x_text_test, y_test),\n",
    "    callbacks=[early_stopping],\n",
    ")"
   ]
  },
  {
   "cell_type": "code",
   "execution_count": null,
   "metadata": {},
   "outputs": [],
   "source": [
    "train_loss = history.history[\"loss\"]\n",
    "val_loss = history.history[\"val_loss\"]\n",
    "\n",
    "epochs = list(range(1, len(train_loss) + 1))  # Convert range to list\n",
    "\n",
    "fig = go.Figure()\n",
    "fig.add_trace(\n",
    "    go.Scatter(\n",
    "        x=epochs,\n",
    "        y=train_loss,\n",
    "        mode=\"lines\",\n",
    "        name=\"Training Loss\",\n",
    "        line=dict(color=\"blue\"),\n",
    "    )\n",
    ")\n",
    "fig.add_trace(\n",
    "    go.Scatter(\n",
    "        x=epochs,\n",
    "        y=val_loss,\n",
    "        mode=\"lines\",\n",
    "        name=\"Validation Loss\",\n",
    "        line=dict(color=\"red\"),\n",
    "    )\n",
    ")\n",
    "fig.update_layout(\n",
    "    title=\"Training and Validation Loss\",\n",
    "    xaxis_title=\"Epochs\",\n",
    "    yaxis_title=\"Loss\",\n",
    "    showlegend=True,\n",
    "    template=\"plotly_white\",\n",
    ")\n",
    "fig.show()"
   ]
  },
  {
   "cell_type": "markdown",
   "metadata": {},
   "source": [
    "## Predictions"
   ]
  },
  {
   "cell_type": "code",
   "execution_count": null,
   "metadata": {},
   "outputs": [],
   "source": [
    "new_data = pd.read_csv(\"test.csv\")  # replace with your new data file\n",
    "texts = new_data[\"excerpt\"].values\n",
    "sequences = tokenizer.texts_to_sequences(texts)\n",
    "data = pad_sequences(sequences, maxlen=max_sequence_length)\n",
    "\n",
    "# Make predictions\n",
    "predictions = modela.predict(data)\n",
    "\n",
    "# Create a new DataFrame with 'id' and 'target'\n",
    "output = pd.DataFrame({\"id\": new_data[\"id\"], \"target\": predictions.flatten()})\n",
    "\n",
    "# Save to CSV\n",
    "output.to_csv(\"submission.csv\", index=False)"
   ]
  },
  {
   "cell_type": "markdown",
   "metadata": {},
   "source": [
    "## Results and Analysis"
   ]
  },
  {
   "cell_type": "markdown",
   "metadata": {},
   "source": [
    "## Conclusion"
   ]
  },
  {
   "cell_type": "markdown",
   "metadata": {},
   "source": [
    "## References"
   ]
  },
  {
   "cell_type": "markdown",
   "metadata": {},
   "source": [
    "http://etym.org/"
   ]
  }
 ],
 "metadata": {
  "kernelspec": {
   "display_name": ".venv",
   "language": "python",
   "name": "python3"
  },
  "language_info": {
   "codemirror_mode": {
    "name": "ipython",
    "version": 3
   },
   "file_extension": ".py",
   "mimetype": "text/x-python",
   "name": "python",
   "nbconvert_exporter": "python",
   "pygments_lexer": "ipython3",
   "version": "3.11.6"
  },
  "orig_nbformat": 4
 },
 "nbformat": 4,
 "nbformat_minor": 2
}
