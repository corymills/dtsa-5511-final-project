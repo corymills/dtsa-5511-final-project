{
 "cells": [
  {
   "cell_type": "code",
   "execution_count": 1,
   "metadata": {},
   "outputs": [
    {
     "name": "stdout",
     "output_type": "stream",
     "text": [
      "Requirement already satisfied: syllapy in c:\\users\\focus\\develop\\cu\\dtsa-5511\\final\\.venv\\lib\\site-packages (0.7.2)\n",
      "Requirement already satisfied: ety in c:\\users\\focus\\develop\\cu\\dtsa-5511\\final\\.venv\\lib\\site-packages (1.4.0)\n",
      "Requirement already satisfied: treelib in c:\\users\\focus\\develop\\cu\\dtsa-5511\\final\\.venv\\lib\\site-packages (from ety) (1.7.0)\n",
      "Requirement already satisfied: colorful in c:\\users\\focus\\develop\\cu\\dtsa-5511\\final\\.venv\\lib\\site-packages (from ety) (0.5.5)\n",
      "Requirement already satisfied: six in c:\\users\\focus\\develop\\cu\\dtsa-5511\\final\\.venv\\lib\\site-packages (from ety) (1.16.0)\n",
      "Requirement already satisfied: colorama in c:\\users\\focus\\develop\\cu\\dtsa-5511\\final\\.venv\\lib\\site-packages (from colorful->ety) (0.4.6)\n"
     ]
    }
   ],
   "source": [
    "!pip install syllapy\n",
    "!pip install ety"
   ]
  },
  {
   "cell_type": "markdown",
   "metadata": {},
   "source": [
    "## Imports"
   ]
  },
  {
   "cell_type": "code",
   "execution_count": 2,
   "metadata": {},
   "outputs": [
    {
     "name": "stderr",
     "output_type": "stream",
     "text": [
      "[nltk_data] Downloading package wordnet to\n",
      "[nltk_data]     C:\\Users\\focus\\AppData\\Roaming\\nltk_data...\n",
      "[nltk_data]   Package wordnet is already up-to-date!\n",
      "[nltk_data] Downloading package punkt to\n",
      "[nltk_data]     C:\\Users\\focus\\AppData\\Roaming\\nltk_data...\n",
      "[nltk_data]   Package punkt is already up-to-date!\n",
      "[nltk_data] Downloading package averaged_perceptron_tagger to\n",
      "[nltk_data]     C:\\Users\\focus\\AppData\\Roaming\\nltk_data...\n",
      "[nltk_data]   Package averaged_perceptron_tagger is already up-to-\n",
      "[nltk_data]       date!\n"
     ]
    },
    {
     "data": {
      "text/plain": [
       "True"
      ]
     },
     "execution_count": 2,
     "metadata": {},
     "output_type": "execute_result"
    }
   ],
   "source": [
    "# Data manipulation and analysis libraries\n",
    "import pandas as pd\n",
    "import numpy as np\n",
    "\n",
    "# Plotting and visualization library\n",
    "import plotly.graph_objects as go\n",
    "\n",
    "# Natural Language Processing (NLP) libraries\n",
    "import nltk\n",
    "from collections import Counter\n",
    "from nltk.corpus import wordnet\n",
    "from nltk.tokenize import sent_tokenize, word_tokenize\n",
    "\n",
    "# Phonetic analysis library\n",
    "import syllapy\n",
    "\n",
    "# Etymology analysis library\n",
    "import ety\n",
    "\n",
    "# Progress bar for loops\n",
    "from tqdm import tqdm\n",
    "\n",
    "# Deep Learning and Machine Learning libraries\n",
    "from keras.preprocessing.text import Tokenizer\n",
    "from tensorflow.keras.preprocessing.sequence import pad_sequences\n",
    "from sklearn.model_selection import train_test_split\n",
    "from tensorflow.keras.callbacks import EarlyStopping\n",
    "from keras.models import Model\n",
    "\n",
    "# Set up NLTK resources\n",
    "tqdm.pandas()\n",
    "nltk.download(\"wordnet\")\n",
    "nltk.download(\"punkt\")\n",
    "nltk.download(\"averaged_perceptron_tagger\")"
   ]
  },
  {
   "cell_type": "markdown",
   "metadata": {},
   "source": [
    "## Read and Preprocess Data"
   ]
  },
  {
   "cell_type": "markdown",
   "metadata": {},
   "source": [
    "Below, I pre-process the text data along with performing feature extraction.  The following code takes text input, performs various operations on it, and returns a set of linguistic statistics and processed data.\n",
    "\n",
    "The following code:\n",
    "\n",
    "- Converts the input text to lowercase\n",
    "- Tokenizes the text into sentences using the Natural Language Toolkit (`nltk`), and each sentence is further tokenized into words. POS tags are assigned to each word.\n",
    "- For each word in the text, the code does the following:\n",
    "  - Determines the word's origin language (etymology).\n",
    "  - Retrieves the full name of the POS tag from the `pos_mapping`.\n",
    "  - Counts the number of syllables in the word.\n",
    "  - Calculates the length of the word.\n",
    "- Calculates various linguistic statistics, such as the mean syllable count, the number of sentences, the mean sentence length, the mean word length, and the total number of words."
   ]
  },
  {
   "cell_type": "code",
   "execution_count": 3,
   "metadata": {},
   "outputs": [],
   "source": [
    "df = pd.read_csv(\n",
    "    \"./kaggle/input/clear-corpus-6-01-clear-corpus-6-01/CLEAR Corpus 6.01 - CLEAR Corpus 6.01.csv\"\n",
    ")"
   ]
  },
  {
   "cell_type": "code",
   "execution_count": 4,
   "metadata": {},
   "outputs": [],
   "source": [
    "# Define a mapping of POS (Part of Speech) tags to their full names\n",
    "pos_mapping = {\n",
    "    \"CC\": \"Coordinating Conjunction\",\n",
    "    \"CD\": \"Cardinal Digit\",\n",
    "    \"DT\": \"Determiner\",\n",
    "    \"EX\": \"Existential There\",\n",
    "    \"FW\": \"Foreign Word\",\n",
    "    \"IN\": \"Preposition or Subordinating Conjunction\",\n",
    "    \"JJ\": \"Adjective\",\n",
    "    \"JJR\": \"Adjective, Comparative\",\n",
    "    \"JJS\": \"Adjective, Superlative\",\n",
    "    \"LS\": \"List Item Marker\",\n",
    "    \"MD\": \"Modal\",\n",
    "    \"NN\": \"Noun, Singular or Mass\",\n",
    "    \"NNS\": \"Noun, Plural\",\n",
    "    \"NNP\": \"Proper Noun, Singular\",\n",
    "    \"NNPS\": \"Proper Noun, Plural\",\n",
    "    \"PDT\": \"Predeterminer\",\n",
    "    \"POS\": \"Possessive Ending\",\n",
    "    \"PRP\": \"Personal Pronoun\",\n",
    "    \"PRP$\": \"Possessive Pronoun\",\n",
    "    \"RB\": \"Adverb\",\n",
    "    \"RBR\": \"Adverb, Comparative\",\n",
    "    \"RBS\": \"Adverb, Superlative\",\n",
    "    \"RP\": \"Particle\",\n",
    "    \"TO\": \"to\",\n",
    "    \"UH\": \"Interjection\",\n",
    "    \"VB\": \"Verb, Base Form\",\n",
    "    \"VBD\": \"Verb, Past Tense\",\n",
    "    \"VBG\": \"Verb, Gerund or Present Participle\",\n",
    "    \"VBN\": \"Verb, Past Participle\",\n",
    "    \"VBP\": \"Verb, Non-3rd Person Singular Present\",\n",
    "    \"VBZ\": \"Verb, 3rd Person Singular Present\",\n",
    "    \"WDT\": \"Wh-determiner\",\n",
    "    \"WP\": \"Wh-pronoun\",\n",
    "    \"WP$\": \"Possessive Wh-pronoun\",\n",
    "    \"WRB\": \"Wh-adverb\",\n",
    "}\n",
    "\n",
    "\n",
    "# Define a function to process text\n",
    "def process_text(text):\n",
    "    # Convert text to lowercase\n",
    "    text = text.lower()\n",
    "\n",
    "    # Initialize lists to store various linguistic features\n",
    "    word_origins = []\n",
    "    word_pos = []\n",
    "    syllable_counts = []\n",
    "    sentence_lengths = []\n",
    "    word_lengths = []\n",
    "\n",
    "    # Tokenize the text into sentences\n",
    "    sentences = sent_tokenize(text)\n",
    "\n",
    "    # Iterate through each sentence\n",
    "    for sentence in sentences:\n",
    "        # Tokenize each sentence into words and determine POS tags\n",
    "        tokens = nltk.word_tokenize(sentence)\n",
    "        pos_tags = nltk.pos_tag(tokens)\n",
    "        sentence_lengths.append(len(pos_tags))\n",
    "\n",
    "        # Process each word in the sentence\n",
    "        for token, pos in pos_tags:\n",
    "            # Determine the word's origin language (etymology)\n",
    "            origin = ety.origins(token)\n",
    "            if origin:\n",
    "                origin = origin[0].language.name\n",
    "            else:\n",
    "                origin = \"unknown\"\n",
    "            word_origins.append(origin)\n",
    "\n",
    "            # Get the full name of the POS tag using the mapping\n",
    "            full_pos_name = pos_mapping.get(pos, pos)\n",
    "            word_pos.append(full_pos_name)\n",
    "\n",
    "            # Count the number of syllables in the word\n",
    "            syllables = syllapy.count(token)\n",
    "            syllable_counts.append(syllables)\n",
    "\n",
    "            # Calculate the length of the word\n",
    "            word_lengths.append(len(token))\n",
    "\n",
    "    # Calculate various linguistic statistics\n",
    "    processed_excerpt = text\n",
    "    origin_counts = Counter(word_origins)\n",
    "    pos_counts = Counter(word_pos)\n",
    "    mean_syllable_count = np.mean(syllable_counts)\n",
    "    num_sentences = len(sentences)\n",
    "    mean_sentence_length = np.mean(sentence_lengths)\n",
    "    num_words = np.sum(sentence_lengths)\n",
    "    mean_word_length = np.mean(word_lengths)\n",
    "\n",
    "    # Return the processed data and statistics\n",
    "    return (\n",
    "        word_origins,\n",
    "        origin_counts,\n",
    "        word_pos,\n",
    "        pos_counts,\n",
    "        syllable_counts,\n",
    "        mean_syllable_count,\n",
    "        num_sentences,\n",
    "        mean_sentence_length,\n",
    "        mean_word_length,\n",
    "        num_words,\n",
    "        processed_excerpt,\n",
    "    )"
   ]
  },
  {
   "cell_type": "code",
   "execution_count": 5,
   "metadata": {},
   "outputs": [
    {
     "name": "stderr",
     "output_type": "stream",
     "text": [
      "100%|██████████| 4724/4724 [01:49<00:00, 43.08it/s]\n"
     ]
    }
   ],
   "source": [
    "df[\n",
    "    [\n",
    "        \"word_origins\",\n",
    "        \"word_origin_counts\",\n",
    "        \"pos\",\n",
    "        \"pos_counts\",\n",
    "        \"syllable_counts\",\n",
    "        \"mean_syllable_count\",\n",
    "        \"num_sentences\",\n",
    "        \"mean_sentence_length\",\n",
    "        \"mean_word_length\",\n",
    "        \"num_words\",\n",
    "        \"processed_excerpt\",\n",
    "    ]\n",
    "] = df[\"Excerpt\"].progress_apply(lambda x: pd.Series(process_text(x)))"
   ]
  },
  {
   "cell_type": "markdown",
   "metadata": {},
   "source": [
    "## Bi-directional LSTM Model\n",
    "\n",
    "Below, I prepare text data for the machine learning model.\n",
    "\n",
    "- **Fit Tokenizer:** The Tokenizer is trained on preprocessed text excerpts. This step helps the Tokenizer build a vocabulary and assign a unique integer index to each word in the text.\n",
    "- **Convert Text to Sequences:** The text sequences in the DataFrame are converted into sequences of integers using the Tokenizer\n",
    "- **Pad Sequences:** To ensure all sequences have the same length, I pad them with zeros to a maximum length.\n",
    "- **Label Creation:** Labels for the data are created from the \"BT Easiness\" column.\n",
    "- **Data Splitting:** The data is split into training and testing sets. I allocate 20% of the data for testing.\n",
    "- **Early Stopping:** I define early stopping criteria for model training."
   ]
  },
  {
   "cell_type": "code",
   "execution_count": 6,
   "metadata": {},
   "outputs": [],
   "source": [
    "# Set the maximum sequence length for text data\n",
    "max_sequence_length = 300\n",
    "\n",
    "# Set the maximum number of words to consider in the Tokenizer\n",
    "max_words = 50000\n",
    "\n",
    "# Initialize a Tokenizer with a specified maximum number of words\n",
    "tokenizer = Tokenizer(num_words=max_words)\n",
    "\n",
    "# Fit the Tokenizer on the preprocessed excerpts in the DataFrame\n",
    "tokenizer.fit_on_texts(df[\"processed_excerpt\"])\n",
    "\n",
    "# Convert text sequences into sequences of integers using the Tokenizer\n",
    "sequences = tokenizer.texts_to_sequences(df[\"processed_excerpt\"])\n",
    "\n",
    "# Pad the sequences to ensure uniform length\n",
    "data = pad_sequences(sequences, maxlen=max_sequence_length)\n",
    "\n",
    "# Create an array of labels based on the \"BT Easiness\" column in the DataFrame\n",
    "labels = np.array(df[\"BT Easiness\"])\n",
    "\n",
    "# Split the data into training and testing sets\n",
    "(\n",
    "    x_text_train,\n",
    "    x_text_test,\n",
    "    y_train,\n",
    "    y_test,\n",
    ") = train_test_split(data, labels, test_size=0.2, random_state=42, shuffle=True)\n",
    "\n",
    "# Define early stopping criteria for model training\n",
    "early_stopping = EarlyStopping(\n",
    "    monitor=\"val_loss\", patience=5, restore_best_weights=True\n",
    ")"
   ]
  },
  {
   "cell_type": "markdown",
   "metadata": {},
   "source": [
    "Define and train the model\n",
    "\n",
    "- **Model Definition:** \n",
    "  - A Sequential model is created.\n",
    "  - The first layer is an Embedding layer, which is used for text data.\n",
    "  - A Bidirectional LSTM layer with 64 units follows the Embedding layer. Bidirectional LSTM processes sequences in both forward and backward directions, capturing context effectively.\n",
    "  - A LeakyReLU activation function with an alpha of 0.1 is applied to the output of the LSTM layer.\n",
    "  - A Dropout layer with a rate of 0.25 is added to reduce overfitting.\n",
    "  - Finally, a Dense layer with one unit and a linear activation function is used for regression.\n",
    "- **Model Training:** \n",
    "  - The model is trained for 30 epochs with a batch size of 50 and early stopping."
   ]
  },
  {
   "cell_type": "code",
   "execution_count": 7,
   "metadata": {},
   "outputs": [
    {
     "name": "stdout",
     "output_type": "stream",
     "text": [
      "Model: \"sequential\"\n",
      "_________________________________________________________________\n",
      " Layer (type)                Output Shape              Param #   \n",
      "=================================================================\n",
      " embedding (Embedding)       (None, 300, 128)          6400000   \n",
      "                                                                 \n",
      " bidirectional (Bidirection  (None, 128)               98816     \n",
      " al)                                                             \n",
      "                                                                 \n",
      " leaky_re_lu (LeakyReLU)     (None, 128)               0         \n",
      "                                                                 \n",
      " dropout (Dropout)           (None, 128)               0         \n",
      "                                                                 \n",
      " dense (Dense)               (None, 1)                 129       \n",
      "                                                                 \n",
      "=================================================================\n",
      "Total params: 6498945 (24.79 MB)\n",
      "Trainable params: 6498945 (24.79 MB)\n",
      "Non-trainable params: 0 (0.00 Byte)\n",
      "_________________________________________________________________\n",
      "Epoch 1/30\n",
      "31/76 [===========>..................] - ETA: 39s - loss: 1.2612"
     ]
    },
    {
     "ename": "KeyboardInterrupt",
     "evalue": "",
     "output_type": "error",
     "traceback": [
      "\u001b[1;31m---------------------------------------------------------------------------\u001b[0m",
      "\u001b[1;31mKeyboardInterrupt\u001b[0m                         Traceback (most recent call last)",
      "\u001b[1;32mc:\\Users\\focus\\Develop\\CU\\DTSA-5511\\final\\LSTM.ipynb Cell 10\u001b[0m line \u001b[0;36m1\n\u001b[0;32m     <a href='vscode-notebook-cell:/c%3A/Users/focus/Develop/CU/DTSA-5511/final/LSTM.ipynb#X14sZmlsZQ%3D%3D?line=10'>11</a>\u001b[0m model\u001b[39m.\u001b[39msummary()\n\u001b[0;32m     <a href='vscode-notebook-cell:/c%3A/Users/focus/Develop/CU/DTSA-5511/final/LSTM.ipynb#X14sZmlsZQ%3D%3D?line=12'>13</a>\u001b[0m \u001b[39m# Train the model\u001b[39;00m\n\u001b[1;32m---> <a href='vscode-notebook-cell:/c%3A/Users/focus/Develop/CU/DTSA-5511/final/LSTM.ipynb#X14sZmlsZQ%3D%3D?line=13'>14</a>\u001b[0m history \u001b[39m=\u001b[39m model\u001b[39m.\u001b[39;49mfit(\n\u001b[0;32m     <a href='vscode-notebook-cell:/c%3A/Users/focus/Develop/CU/DTSA-5511/final/LSTM.ipynb#X14sZmlsZQ%3D%3D?line=14'>15</a>\u001b[0m     x_text_train,\n\u001b[0;32m     <a href='vscode-notebook-cell:/c%3A/Users/focus/Develop/CU/DTSA-5511/final/LSTM.ipynb#X14sZmlsZQ%3D%3D?line=15'>16</a>\u001b[0m     y_train,\n\u001b[0;32m     <a href='vscode-notebook-cell:/c%3A/Users/focus/Develop/CU/DTSA-5511/final/LSTM.ipynb#X14sZmlsZQ%3D%3D?line=16'>17</a>\u001b[0m     epochs\u001b[39m=\u001b[39;49m\u001b[39m30\u001b[39;49m,\n\u001b[0;32m     <a href='vscode-notebook-cell:/c%3A/Users/focus/Develop/CU/DTSA-5511/final/LSTM.ipynb#X14sZmlsZQ%3D%3D?line=17'>18</a>\u001b[0m     batch_size\u001b[39m=\u001b[39;49m\u001b[39m50\u001b[39;49m,\n\u001b[0;32m     <a href='vscode-notebook-cell:/c%3A/Users/focus/Develop/CU/DTSA-5511/final/LSTM.ipynb#X14sZmlsZQ%3D%3D?line=18'>19</a>\u001b[0m     validation_data\u001b[39m=\u001b[39;49m(x_text_test, y_test),\n\u001b[0;32m     <a href='vscode-notebook-cell:/c%3A/Users/focus/Develop/CU/DTSA-5511/final/LSTM.ipynb#X14sZmlsZQ%3D%3D?line=19'>20</a>\u001b[0m     callbacks\u001b[39m=\u001b[39;49m[early_stopping],\n\u001b[0;32m     <a href='vscode-notebook-cell:/c%3A/Users/focus/Develop/CU/DTSA-5511/final/LSTM.ipynb#X14sZmlsZQ%3D%3D?line=20'>21</a>\u001b[0m )\n",
      "File \u001b[1;32mc:\\Users\\focus\\Develop\\CU\\DTSA-5511\\final\\.venv\\Lib\\site-packages\\keras\\src\\utils\\traceback_utils.py:65\u001b[0m, in \u001b[0;36mfilter_traceback.<locals>.error_handler\u001b[1;34m(*args, **kwargs)\u001b[0m\n\u001b[0;32m     63\u001b[0m filtered_tb \u001b[39m=\u001b[39m \u001b[39mNone\u001b[39;00m\n\u001b[0;32m     64\u001b[0m \u001b[39mtry\u001b[39;00m:\n\u001b[1;32m---> 65\u001b[0m     \u001b[39mreturn\u001b[39;00m fn(\u001b[39m*\u001b[39;49margs, \u001b[39m*\u001b[39;49m\u001b[39m*\u001b[39;49mkwargs)\n\u001b[0;32m     66\u001b[0m \u001b[39mexcept\u001b[39;00m \u001b[39mException\u001b[39;00m \u001b[39mas\u001b[39;00m e:\n\u001b[0;32m     67\u001b[0m     filtered_tb \u001b[39m=\u001b[39m _process_traceback_frames(e\u001b[39m.\u001b[39m__traceback__)\n",
      "File \u001b[1;32mc:\\Users\\focus\\Develop\\CU\\DTSA-5511\\final\\.venv\\Lib\\site-packages\\keras\\src\\engine\\training.py:1783\u001b[0m, in \u001b[0;36mModel.fit\u001b[1;34m(self, x, y, batch_size, epochs, verbose, callbacks, validation_split, validation_data, shuffle, class_weight, sample_weight, initial_epoch, steps_per_epoch, validation_steps, validation_batch_size, validation_freq, max_queue_size, workers, use_multiprocessing)\u001b[0m\n\u001b[0;32m   1775\u001b[0m \u001b[39mwith\u001b[39;00m tf\u001b[39m.\u001b[39mprofiler\u001b[39m.\u001b[39mexperimental\u001b[39m.\u001b[39mTrace(\n\u001b[0;32m   1776\u001b[0m     \u001b[39m\"\u001b[39m\u001b[39mtrain\u001b[39m\u001b[39m\"\u001b[39m,\n\u001b[0;32m   1777\u001b[0m     epoch_num\u001b[39m=\u001b[39mepoch,\n\u001b[1;32m   (...)\u001b[0m\n\u001b[0;32m   1780\u001b[0m     _r\u001b[39m=\u001b[39m\u001b[39m1\u001b[39m,\n\u001b[0;32m   1781\u001b[0m ):\n\u001b[0;32m   1782\u001b[0m     callbacks\u001b[39m.\u001b[39mon_train_batch_begin(step)\n\u001b[1;32m-> 1783\u001b[0m     tmp_logs \u001b[39m=\u001b[39m \u001b[39mself\u001b[39;49m\u001b[39m.\u001b[39;49mtrain_function(iterator)\n\u001b[0;32m   1784\u001b[0m     \u001b[39mif\u001b[39;00m data_handler\u001b[39m.\u001b[39mshould_sync:\n\u001b[0;32m   1785\u001b[0m         context\u001b[39m.\u001b[39masync_wait()\n",
      "File \u001b[1;32mc:\\Users\\focus\\Develop\\CU\\DTSA-5511\\final\\.venv\\Lib\\site-packages\\tensorflow\\python\\util\\traceback_utils.py:150\u001b[0m, in \u001b[0;36mfilter_traceback.<locals>.error_handler\u001b[1;34m(*args, **kwargs)\u001b[0m\n\u001b[0;32m    148\u001b[0m filtered_tb \u001b[39m=\u001b[39m \u001b[39mNone\u001b[39;00m\n\u001b[0;32m    149\u001b[0m \u001b[39mtry\u001b[39;00m:\n\u001b[1;32m--> 150\u001b[0m   \u001b[39mreturn\u001b[39;00m fn(\u001b[39m*\u001b[39;49margs, \u001b[39m*\u001b[39;49m\u001b[39m*\u001b[39;49mkwargs)\n\u001b[0;32m    151\u001b[0m \u001b[39mexcept\u001b[39;00m \u001b[39mException\u001b[39;00m \u001b[39mas\u001b[39;00m e:\n\u001b[0;32m    152\u001b[0m   filtered_tb \u001b[39m=\u001b[39m _process_traceback_frames(e\u001b[39m.\u001b[39m__traceback__)\n",
      "File \u001b[1;32mc:\\Users\\focus\\Develop\\CU\\DTSA-5511\\final\\.venv\\Lib\\site-packages\\tensorflow\\python\\eager\\polymorphic_function\\polymorphic_function.py:831\u001b[0m, in \u001b[0;36mFunction.__call__\u001b[1;34m(self, *args, **kwds)\u001b[0m\n\u001b[0;32m    828\u001b[0m compiler \u001b[39m=\u001b[39m \u001b[39m\"\u001b[39m\u001b[39mxla\u001b[39m\u001b[39m\"\u001b[39m \u001b[39mif\u001b[39;00m \u001b[39mself\u001b[39m\u001b[39m.\u001b[39m_jit_compile \u001b[39melse\u001b[39;00m \u001b[39m\"\u001b[39m\u001b[39mnonXla\u001b[39m\u001b[39m\"\u001b[39m\n\u001b[0;32m    830\u001b[0m \u001b[39mwith\u001b[39;00m OptionalXlaContext(\u001b[39mself\u001b[39m\u001b[39m.\u001b[39m_jit_compile):\n\u001b[1;32m--> 831\u001b[0m   result \u001b[39m=\u001b[39m \u001b[39mself\u001b[39;49m\u001b[39m.\u001b[39;49m_call(\u001b[39m*\u001b[39;49margs, \u001b[39m*\u001b[39;49m\u001b[39m*\u001b[39;49mkwds)\n\u001b[0;32m    833\u001b[0m new_tracing_count \u001b[39m=\u001b[39m \u001b[39mself\u001b[39m\u001b[39m.\u001b[39mexperimental_get_tracing_count()\n\u001b[0;32m    834\u001b[0m without_tracing \u001b[39m=\u001b[39m (tracing_count \u001b[39m==\u001b[39m new_tracing_count)\n",
      "File \u001b[1;32mc:\\Users\\focus\\Develop\\CU\\DTSA-5511\\final\\.venv\\Lib\\site-packages\\tensorflow\\python\\eager\\polymorphic_function\\polymorphic_function.py:867\u001b[0m, in \u001b[0;36mFunction._call\u001b[1;34m(self, *args, **kwds)\u001b[0m\n\u001b[0;32m    864\u001b[0m   \u001b[39mself\u001b[39m\u001b[39m.\u001b[39m_lock\u001b[39m.\u001b[39mrelease()\n\u001b[0;32m    865\u001b[0m   \u001b[39m# In this case we have created variables on the first call, so we run the\u001b[39;00m\n\u001b[0;32m    866\u001b[0m   \u001b[39m# defunned version which is guaranteed to never create variables.\u001b[39;00m\n\u001b[1;32m--> 867\u001b[0m   \u001b[39mreturn\u001b[39;00m tracing_compilation\u001b[39m.\u001b[39;49mcall_function(\n\u001b[0;32m    868\u001b[0m       args, kwds, \u001b[39mself\u001b[39;49m\u001b[39m.\u001b[39;49m_no_variable_creation_config\n\u001b[0;32m    869\u001b[0m   )\n\u001b[0;32m    870\u001b[0m \u001b[39melif\u001b[39;00m \u001b[39mself\u001b[39m\u001b[39m.\u001b[39m_variable_creation_config \u001b[39mis\u001b[39;00m \u001b[39mnot\u001b[39;00m \u001b[39mNone\u001b[39;00m:\n\u001b[0;32m    871\u001b[0m   \u001b[39m# Release the lock early so that multiple threads can perform the call\u001b[39;00m\n\u001b[0;32m    872\u001b[0m   \u001b[39m# in parallel.\u001b[39;00m\n\u001b[0;32m    873\u001b[0m   \u001b[39mself\u001b[39m\u001b[39m.\u001b[39m_lock\u001b[39m.\u001b[39mrelease()\n",
      "File \u001b[1;32mc:\\Users\\focus\\Develop\\CU\\DTSA-5511\\final\\.venv\\Lib\\site-packages\\tensorflow\\python\\eager\\polymorphic_function\\tracing_compilation.py:139\u001b[0m, in \u001b[0;36mcall_function\u001b[1;34m(args, kwargs, tracing_options)\u001b[0m\n\u001b[0;32m    137\u001b[0m bound_args \u001b[39m=\u001b[39m function\u001b[39m.\u001b[39mfunction_type\u001b[39m.\u001b[39mbind(\u001b[39m*\u001b[39margs, \u001b[39m*\u001b[39m\u001b[39m*\u001b[39mkwargs)\n\u001b[0;32m    138\u001b[0m flat_inputs \u001b[39m=\u001b[39m function\u001b[39m.\u001b[39mfunction_type\u001b[39m.\u001b[39munpack_inputs(bound_args)\n\u001b[1;32m--> 139\u001b[0m \u001b[39mreturn\u001b[39;00m function\u001b[39m.\u001b[39;49m_call_flat(  \u001b[39m# pylint: disable=protected-access\u001b[39;49;00m\n\u001b[0;32m    140\u001b[0m     flat_inputs, captured_inputs\u001b[39m=\u001b[39;49mfunction\u001b[39m.\u001b[39;49mcaptured_inputs\n\u001b[0;32m    141\u001b[0m )\n",
      "File \u001b[1;32mc:\\Users\\focus\\Develop\\CU\\DTSA-5511\\final\\.venv\\Lib\\site-packages\\tensorflow\\python\\eager\\polymorphic_function\\concrete_function.py:1264\u001b[0m, in \u001b[0;36mConcreteFunction._call_flat\u001b[1;34m(self, tensor_inputs, captured_inputs)\u001b[0m\n\u001b[0;32m   1260\u001b[0m possible_gradient_type \u001b[39m=\u001b[39m gradients_util\u001b[39m.\u001b[39mPossibleTapeGradientTypes(args)\n\u001b[0;32m   1261\u001b[0m \u001b[39mif\u001b[39;00m (possible_gradient_type \u001b[39m==\u001b[39m gradients_util\u001b[39m.\u001b[39mPOSSIBLE_GRADIENT_TYPES_NONE\n\u001b[0;32m   1262\u001b[0m     \u001b[39mand\u001b[39;00m executing_eagerly):\n\u001b[0;32m   1263\u001b[0m   \u001b[39m# No tape is watching; skip to running the function.\u001b[39;00m\n\u001b[1;32m-> 1264\u001b[0m   \u001b[39mreturn\u001b[39;00m \u001b[39mself\u001b[39;49m\u001b[39m.\u001b[39;49m_inference_function\u001b[39m.\u001b[39;49mflat_call(args)\n\u001b[0;32m   1265\u001b[0m forward_backward \u001b[39m=\u001b[39m \u001b[39mself\u001b[39m\u001b[39m.\u001b[39m_select_forward_and_backward_functions(\n\u001b[0;32m   1266\u001b[0m     args,\n\u001b[0;32m   1267\u001b[0m     possible_gradient_type,\n\u001b[0;32m   1268\u001b[0m     executing_eagerly)\n\u001b[0;32m   1269\u001b[0m forward_function, args_with_tangents \u001b[39m=\u001b[39m forward_backward\u001b[39m.\u001b[39mforward()\n",
      "File \u001b[1;32mc:\\Users\\focus\\Develop\\CU\\DTSA-5511\\final\\.venv\\Lib\\site-packages\\tensorflow\\python\\eager\\polymorphic_function\\atomic_function.py:217\u001b[0m, in \u001b[0;36mAtomicFunction.flat_call\u001b[1;34m(self, args)\u001b[0m\n\u001b[0;32m    215\u001b[0m \u001b[39mdef\u001b[39;00m \u001b[39mflat_call\u001b[39m(\u001b[39mself\u001b[39m, args: Sequence[core\u001b[39m.\u001b[39mTensor]) \u001b[39m-\u001b[39m\u001b[39m>\u001b[39m Any:\n\u001b[0;32m    216\u001b[0m \u001b[39m  \u001b[39m\u001b[39m\"\"\"Calls with tensor inputs and returns the structured output.\"\"\"\u001b[39;00m\n\u001b[1;32m--> 217\u001b[0m   flat_outputs \u001b[39m=\u001b[39m \u001b[39mself\u001b[39;49m(\u001b[39m*\u001b[39;49margs)\n\u001b[0;32m    218\u001b[0m   \u001b[39mreturn\u001b[39;00m \u001b[39mself\u001b[39m\u001b[39m.\u001b[39mfunction_type\u001b[39m.\u001b[39mpack_output(flat_outputs)\n",
      "File \u001b[1;32mc:\\Users\\focus\\Develop\\CU\\DTSA-5511\\final\\.venv\\Lib\\site-packages\\tensorflow\\python\\eager\\polymorphic_function\\atomic_function.py:252\u001b[0m, in \u001b[0;36mAtomicFunction.__call__\u001b[1;34m(self, *args)\u001b[0m\n\u001b[0;32m    250\u001b[0m \u001b[39mwith\u001b[39;00m record\u001b[39m.\u001b[39mstop_recording():\n\u001b[0;32m    251\u001b[0m   \u001b[39mif\u001b[39;00m \u001b[39mself\u001b[39m\u001b[39m.\u001b[39m_bound_context\u001b[39m.\u001b[39mexecuting_eagerly():\n\u001b[1;32m--> 252\u001b[0m     outputs \u001b[39m=\u001b[39m \u001b[39mself\u001b[39;49m\u001b[39m.\u001b[39;49m_bound_context\u001b[39m.\u001b[39;49mcall_function(\n\u001b[0;32m    253\u001b[0m         \u001b[39mself\u001b[39;49m\u001b[39m.\u001b[39;49mname,\n\u001b[0;32m    254\u001b[0m         \u001b[39mlist\u001b[39;49m(args),\n\u001b[0;32m    255\u001b[0m         \u001b[39mlen\u001b[39;49m(\u001b[39mself\u001b[39;49m\u001b[39m.\u001b[39;49mfunction_type\u001b[39m.\u001b[39;49mflat_outputs),\n\u001b[0;32m    256\u001b[0m     )\n\u001b[0;32m    257\u001b[0m   \u001b[39melse\u001b[39;00m:\n\u001b[0;32m    258\u001b[0m     outputs \u001b[39m=\u001b[39m make_call_op_in_graph(\n\u001b[0;32m    259\u001b[0m         \u001b[39mself\u001b[39m,\n\u001b[0;32m    260\u001b[0m         \u001b[39mlist\u001b[39m(args),\n\u001b[0;32m    261\u001b[0m         \u001b[39mself\u001b[39m\u001b[39m.\u001b[39m_bound_context\u001b[39m.\u001b[39mfunction_call_options\u001b[39m.\u001b[39mas_attrs(),\n\u001b[0;32m    262\u001b[0m     )\n",
      "File \u001b[1;32mc:\\Users\\focus\\Develop\\CU\\DTSA-5511\\final\\.venv\\Lib\\site-packages\\tensorflow\\python\\eager\\context.py:1479\u001b[0m, in \u001b[0;36mContext.call_function\u001b[1;34m(self, name, tensor_inputs, num_outputs)\u001b[0m\n\u001b[0;32m   1477\u001b[0m cancellation_context \u001b[39m=\u001b[39m cancellation\u001b[39m.\u001b[39mcontext()\n\u001b[0;32m   1478\u001b[0m \u001b[39mif\u001b[39;00m cancellation_context \u001b[39mis\u001b[39;00m \u001b[39mNone\u001b[39;00m:\n\u001b[1;32m-> 1479\u001b[0m   outputs \u001b[39m=\u001b[39m execute\u001b[39m.\u001b[39;49mexecute(\n\u001b[0;32m   1480\u001b[0m       name\u001b[39m.\u001b[39;49mdecode(\u001b[39m\"\u001b[39;49m\u001b[39mutf-8\u001b[39;49m\u001b[39m\"\u001b[39;49m),\n\u001b[0;32m   1481\u001b[0m       num_outputs\u001b[39m=\u001b[39;49mnum_outputs,\n\u001b[0;32m   1482\u001b[0m       inputs\u001b[39m=\u001b[39;49mtensor_inputs,\n\u001b[0;32m   1483\u001b[0m       attrs\u001b[39m=\u001b[39;49mattrs,\n\u001b[0;32m   1484\u001b[0m       ctx\u001b[39m=\u001b[39;49m\u001b[39mself\u001b[39;49m,\n\u001b[0;32m   1485\u001b[0m   )\n\u001b[0;32m   1486\u001b[0m \u001b[39melse\u001b[39;00m:\n\u001b[0;32m   1487\u001b[0m   outputs \u001b[39m=\u001b[39m execute\u001b[39m.\u001b[39mexecute_with_cancellation(\n\u001b[0;32m   1488\u001b[0m       name\u001b[39m.\u001b[39mdecode(\u001b[39m\"\u001b[39m\u001b[39mutf-8\u001b[39m\u001b[39m\"\u001b[39m),\n\u001b[0;32m   1489\u001b[0m       num_outputs\u001b[39m=\u001b[39mnum_outputs,\n\u001b[1;32m   (...)\u001b[0m\n\u001b[0;32m   1493\u001b[0m       cancellation_manager\u001b[39m=\u001b[39mcancellation_context,\n\u001b[0;32m   1494\u001b[0m   )\n",
      "File \u001b[1;32mc:\\Users\\focus\\Develop\\CU\\DTSA-5511\\final\\.venv\\Lib\\site-packages\\tensorflow\\python\\eager\\execute.py:60\u001b[0m, in \u001b[0;36mquick_execute\u001b[1;34m(op_name, num_outputs, inputs, attrs, ctx, name)\u001b[0m\n\u001b[0;32m     53\u001b[0m   \u001b[39m# Convert any objects of type core_types.Tensor to Tensor.\u001b[39;00m\n\u001b[0;32m     54\u001b[0m   inputs \u001b[39m=\u001b[39m [\n\u001b[0;32m     55\u001b[0m       tensor_conversion_registry\u001b[39m.\u001b[39mconvert(t)\n\u001b[0;32m     56\u001b[0m       \u001b[39mif\u001b[39;00m \u001b[39misinstance\u001b[39m(t, core_types\u001b[39m.\u001b[39mTensor)\n\u001b[0;32m     57\u001b[0m       \u001b[39melse\u001b[39;00m t\n\u001b[0;32m     58\u001b[0m       \u001b[39mfor\u001b[39;00m t \u001b[39min\u001b[39;00m inputs\n\u001b[0;32m     59\u001b[0m   ]\n\u001b[1;32m---> 60\u001b[0m   tensors \u001b[39m=\u001b[39m pywrap_tfe\u001b[39m.\u001b[39;49mTFE_Py_Execute(ctx\u001b[39m.\u001b[39;49m_handle, device_name, op_name,\n\u001b[0;32m     61\u001b[0m                                       inputs, attrs, num_outputs)\n\u001b[0;32m     62\u001b[0m \u001b[39mexcept\u001b[39;00m core\u001b[39m.\u001b[39m_NotOkStatusException \u001b[39mas\u001b[39;00m e:\n\u001b[0;32m     63\u001b[0m   \u001b[39mif\u001b[39;00m name \u001b[39mis\u001b[39;00m \u001b[39mnot\u001b[39;00m \u001b[39mNone\u001b[39;00m:\n",
      "\u001b[1;31mKeyboardInterrupt\u001b[0m: "
     ]
    }
   ],
   "source": [
    "# Create a Sequential model for neural network architecture\n",
    "model = Sequential()\n",
    "model.add(Embedding(max_words, 128, input_length=max_sequence_length))\n",
    "model.add(Bidirectional(LSTM(64)))\n",
    "model.add(LeakyReLU(alpha=0.1))\n",
    "model.add(Dropout(0.25))\n",
    "model.add(Dense(1, activation=\"linear\"))\n",
    "model.compile(loss=\"mean_squared_error\", optimizer=\"adam\")\n",
    "\n",
    "# Display a summary of the model architecture\n",
    "model.summary()\n",
    "\n",
    "# Train the model\n",
    "history = model.fit(\n",
    "    x_text_train,\n",
    "    y_train,\n",
    "    epochs=30,\n",
    "    batch_size=50,\n",
    "    validation_data=(x_text_test, y_test),\n",
    "    callbacks=[early_stopping],\n",
    ")"
   ]
  },
  {
   "cell_type": "markdown",
   "metadata": {},
   "source": [
    "Plot the testing and training loss."
   ]
  },
  {
   "cell_type": "code",
   "execution_count": null,
   "metadata": {},
   "outputs": [],
   "source": [
    "# Extract training loss and validation loss from the history object\n",
    "train_loss = history.history[\"loss\"]\n",
    "val_loss = history.history[\"val_loss\"]\n",
    "\n",
    "# Create a list of epochs for the x-axis, converting range to list\n",
    "epochs = list(range(1, len(train_loss) + 1))\n",
    "\n",
    "# Initialize a Plotly Figure for the line chart\n",
    "fig = go.Figure()\n",
    "\n",
    "# Add a trace for training loss as a blue line\n",
    "fig.add_trace(\n",
    "    go.Scatter(\n",
    "        x=epochs,\n",
    "        y=train_loss,\n",
    "        mode=\"lines\",\n",
    "        name=\"Training Loss\",\n",
    "        line=dict(color=\"blue\"),\n",
    "    )\n",
    ")\n",
    "\n",
    "# Add a trace for validation loss as a red line\n",
    "fig.add_trace(\n",
    "    go.Scatter(\n",
    "        x=epochs,\n",
    "        y=val_loss,\n",
    "        mode=\"lines\",\n",
    "        name=\"Validation Loss\",\n",
    "        line=dict(color=\"red\"),\n",
    "    )\n",
    ")\n",
    "\n",
    "# Update the layout of the figure with title and axis labels\n",
    "fig.update_layout(\n",
    "    title=\"Training and Validation Loss\",\n",
    "    xaxis_title=\"Epochs\",\n",
    "    yaxis_title=\"Loss\",\n",
    "    showlegend=True,\n",
    "    template=\"plotly_white\",\n",
    ")\n",
    "\n",
    "# Display the figure\n",
    "fig.show()"
   ]
  }
 ],
 "metadata": {
  "kernelspec": {
   "display_name": ".venv",
   "language": "python",
   "name": "python3"
  },
  "language_info": {
   "codemirror_mode": {
    "name": "ipython",
    "version": 3
   },
   "file_extension": ".py",
   "mimetype": "text/x-python",
   "name": "python",
   "nbconvert_exporter": "python",
   "pygments_lexer": "ipython3",
   "version": "3.11.6"
  },
  "orig_nbformat": 4
 },
 "nbformat": 4,
 "nbformat_minor": 2
}
